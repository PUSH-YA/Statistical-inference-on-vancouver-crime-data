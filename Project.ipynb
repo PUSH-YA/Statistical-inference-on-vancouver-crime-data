{
 "cells": [
  {
   "cell_type": "markdown",
   "id": "fd5d34c2-633c-40e5-8ae7-33bd0433036e",
   "metadata": {},
   "source": [
    "# **<span style=\"color: black;\">STAT 201 Project  - Group 38</span>** \n",
    "##### **-- by Pushya Jain, Jingyuan Liu, Ty Stevenson & Bowen Tian**"
   ]
  },
  {
   "cell_type": "markdown",
   "id": "da53ffa0-fd02-4501-907e-46372a135eb0",
   "metadata": {
    "tags": []
   },
   "source": [
    "## Introduction"
   ]
  },
  {
   "cell_type": "markdown",
   "id": "73d398f9-b736-40ac-b9ff-bd63337d4bb9",
   "metadata": {},
   "source": [
    "- same as project proposal  + feedback on it"
   ]
  },
  {
   "cell_type": "markdown",
   "id": "708d9d91-0f17-45cb-a4d3-b5fc7bcb99ae",
   "metadata": {},
   "source": [
    "## Methods and results"
   ]
  },
  {
   "cell_type": "markdown",
   "id": "af696845-3971-4ee7-94f1-a2455f4cdd89",
   "metadata": {},
   "source": [
    "- preliminary results\n",
    "- describe the code in english and how and why you are doing something\n",
    "- ensure proper titles and everything is numbred properly (units if encessary)\n",
    "- which approach are you using and why (bootstrapping VS theory based) _I think we are using both_"
   ]
  },
  {
   "cell_type": "code",
   "execution_count": 1,
   "id": "e6e10b30-5719-4097-ba5c-fbe6aa6cb10c",
   "metadata": {},
   "outputs": [
    {
     "name": "stderr",
     "output_type": "stream",
     "text": [
      "── \u001b[1mAttaching packages\u001b[22m ─────────────────────────────────────── tidyverse 1.3.2 ──\n",
      "\u001b[32m✔\u001b[39m \u001b[34mggplot2\u001b[39m 3.3.6      \u001b[32m✔\u001b[39m \u001b[34mpurrr  \u001b[39m 0.3.4 \n",
      "\u001b[32m✔\u001b[39m \u001b[34mtibble \u001b[39m 3.1.8      \u001b[32m✔\u001b[39m \u001b[34mdplyr  \u001b[39m 1.0.10\n",
      "\u001b[32m✔\u001b[39m \u001b[34mtidyr  \u001b[39m 1.2.1      \u001b[32m✔\u001b[39m \u001b[34mstringr\u001b[39m 1.4.1 \n",
      "\u001b[32m✔\u001b[39m \u001b[34mreadr  \u001b[39m 2.1.2      \u001b[32m✔\u001b[39m \u001b[34mforcats\u001b[39m 0.5.2 \n",
      "── \u001b[1mConflicts\u001b[22m ────────────────────────────────────────── tidyverse_conflicts() ──\n",
      "\u001b[31m✖\u001b[39m \u001b[34mdplyr\u001b[39m::\u001b[32mfilter()\u001b[39m masks \u001b[34mstats\u001b[39m::filter()\n",
      "\u001b[31m✖\u001b[39m \u001b[34mdplyr\u001b[39m::\u001b[32mlag()\u001b[39m    masks \u001b[34mstats\u001b[39m::lag()\n",
      "── \u001b[1mAttaching packages\u001b[22m ────────────────────────────────────── tidymodels 1.0.0 ──\n",
      "\n",
      "\u001b[32m✔\u001b[39m \u001b[34mbroom       \u001b[39m 1.0.1     \u001b[32m✔\u001b[39m \u001b[34mrsample     \u001b[39m 1.1.0\n",
      "\u001b[32m✔\u001b[39m \u001b[34mdials       \u001b[39m 1.0.0     \u001b[32m✔\u001b[39m \u001b[34mtune        \u001b[39m 1.0.0\n",
      "\u001b[32m✔\u001b[39m \u001b[34minfer       \u001b[39m 1.0.3     \u001b[32m✔\u001b[39m \u001b[34mworkflows   \u001b[39m 1.0.0\n",
      "\u001b[32m✔\u001b[39m \u001b[34mmodeldata   \u001b[39m 1.0.1     \u001b[32m✔\u001b[39m \u001b[34mworkflowsets\u001b[39m 1.0.0\n",
      "\u001b[32m✔\u001b[39m \u001b[34mparsnip     \u001b[39m 1.0.1     \u001b[32m✔\u001b[39m \u001b[34myardstick   \u001b[39m 1.1.0\n",
      "\u001b[32m✔\u001b[39m \u001b[34mrecipes     \u001b[39m 1.0.1     \n",
      "\n",
      "── \u001b[1mConflicts\u001b[22m ───────────────────────────────────────── tidymodels_conflicts() ──\n",
      "\u001b[31m✖\u001b[39m \u001b[34mscales\u001b[39m::\u001b[32mdiscard()\u001b[39m masks \u001b[34mpurrr\u001b[39m::discard()\n",
      "\u001b[31m✖\u001b[39m \u001b[34mdplyr\u001b[39m::\u001b[32mfilter()\u001b[39m   masks \u001b[34mstats\u001b[39m::filter()\n",
      "\u001b[31m✖\u001b[39m \u001b[34mrecipes\u001b[39m::\u001b[32mfixed()\u001b[39m  masks \u001b[34mstringr\u001b[39m::fixed()\n",
      "\u001b[31m✖\u001b[39m \u001b[34mdplyr\u001b[39m::\u001b[32mlag()\u001b[39m      masks \u001b[34mstats\u001b[39m::lag()\n",
      "\u001b[31m✖\u001b[39m \u001b[34myardstick\u001b[39m::\u001b[32mspec()\u001b[39m masks \u001b[34mreadr\u001b[39m::spec()\n",
      "\u001b[31m✖\u001b[39m \u001b[34mrecipes\u001b[39m::\u001b[32mstep()\u001b[39m   masks \u001b[34mstats\u001b[39m::step()\n",
      "\u001b[34m•\u001b[39m Use suppressPackageStartupMessages() to eliminate package startup messages\n",
      "\n",
      "\n",
      "Attaching package: ‘gridExtra’\n",
      "\n",
      "\n",
      "The following object is masked from ‘package:dplyr’:\n",
      "\n",
      "    combine\n",
      "\n",
      "\n"
     ]
    }
   ],
   "source": [
    "### Load all necessary packages into R and set the seed. Run this cell before continuing.\n",
    "library(tidyverse)\n",
    "library(tidymodels)\n",
    "library(gridExtra)\n",
    "library(repr)\n",
    "library(cowplot)\n",
    "library(broom)\n",
    "library(digest)\n",
    "library(infer)\n",
    "library(gridExtra)\n",
    "set.seed(38)\n",
    "options(repr.matrix.max.rows = 8)"
   ]
  },
  {
   "cell_type": "code",
   "execution_count": 3,
   "id": "f504c556-9a6b-4a6c-a63d-508580f0e608",
   "metadata": {},
   "outputs": [
    {
     "name": "stderr",
     "output_type": "stream",
     "text": [
      "\u001b[1mRows: \u001b[22m\u001b[34m842492\u001b[39m \u001b[1mColumns: \u001b[22m\u001b[34m10\u001b[39m\n",
      "\u001b[36m──\u001b[39m \u001b[1mColumn specification\u001b[22m \u001b[36m────────────────────────────────────────────────────────\u001b[39m\n",
      "\u001b[1mDelimiter:\u001b[22m \",\"\n",
      "\u001b[31mchr\u001b[39m (3): TYPE, HUNDRED_BLOCK, NEIGHBOURHOOD\n",
      "\u001b[32mdbl\u001b[39m (7): YEAR, MONTH, DAY, HOUR, MINUTE, X, Y\n",
      "\n",
      "\u001b[36mℹ\u001b[39m Use `spec()` to retrieve the full column specification for this data.\n",
      "\u001b[36mℹ\u001b[39m Specify the column types or set `show_col_types = FALSE` to quiet this message.\n"
     ]
    },
    {
     "data": {
      "text/html": [
       "<table class=\"dataframe\">\n",
       "<caption>A tibble: 6 × 10</caption>\n",
       "<thead>\n",
       "\t<tr><th scope=col>TYPE</th><th scope=col>YEAR</th><th scope=col>MONTH</th><th scope=col>DAY</th><th scope=col>HOUR</th><th scope=col>MINUTE</th><th scope=col>HUNDRED_BLOCK</th><th scope=col>NEIGHBOURHOOD</th><th scope=col>X</th><th scope=col>Y</th></tr>\n",
       "\t<tr><th scope=col>&lt;chr&gt;</th><th scope=col>&lt;dbl&gt;</th><th scope=col>&lt;dbl&gt;</th><th scope=col>&lt;dbl&gt;</th><th scope=col>&lt;dbl&gt;</th><th scope=col>&lt;dbl&gt;</th><th scope=col>&lt;chr&gt;</th><th scope=col>&lt;chr&gt;</th><th scope=col>&lt;dbl&gt;</th><th scope=col>&lt;dbl&gt;</th></tr>\n",
       "</thead>\n",
       "<tbody>\n",
       "\t<tr><td>Theft from Vehicle</td><td>2022</td><td>8</td><td>14</td><td>17</td><td> 0</td><td>1XX W HASTINGS ST</td><td>Central Business District</td><td>492029.3</td><td>5458866</td></tr>\n",
       "\t<tr><td>Theft from Vehicle</td><td>2020</td><td>1</td><td>27</td><td>17</td><td>50</td><td>1XX W HASTINGS ST</td><td>Central Business District</td><td>492091.1</td><td>5458840</td></tr>\n",
       "\t<tr><td>Theft from Vehicle</td><td>2022</td><td>4</td><td>16</td><td> 9</td><td>58</td><td>1XX W HASTINGS ST</td><td>Central Business District</td><td>492101.0</td><td>5458837</td></tr>\n",
       "\t<tr><td>Theft from Vehicle</td><td>2020</td><td>2</td><td> 8</td><td>20</td><td> 0</td><td>1XX W HASTINGS ST</td><td>Central Business District</td><td>492103.9</td><td>5458836</td></tr>\n",
       "\t<tr><td>Theft from Vehicle</td><td>2022</td><td>6</td><td>16</td><td>13</td><td> 0</td><td>1XX W HASTINGS ST</td><td>Central Business District</td><td>492107.4</td><td>5458835</td></tr>\n",
       "\t<tr><td>Theft from Vehicle</td><td>2022</td><td>4</td><td>19</td><td>19</td><td> 0</td><td>1XX W HASTINGS ST</td><td>Central Business District</td><td>492113.5</td><td>5458843</td></tr>\n",
       "</tbody>\n",
       "</table>\n"
      ],
      "text/latex": [
       "A tibble: 6 × 10\n",
       "\\begin{tabular}{llllllllll}\n",
       " TYPE & YEAR & MONTH & DAY & HOUR & MINUTE & HUNDRED\\_BLOCK & NEIGHBOURHOOD & X & Y\\\\\n",
       " <chr> & <dbl> & <dbl> & <dbl> & <dbl> & <dbl> & <chr> & <chr> & <dbl> & <dbl>\\\\\n",
       "\\hline\n",
       "\t Theft from Vehicle & 2022 & 8 & 14 & 17 &  0 & 1XX W HASTINGS ST & Central Business District & 492029.3 & 5458866\\\\\n",
       "\t Theft from Vehicle & 2020 & 1 & 27 & 17 & 50 & 1XX W HASTINGS ST & Central Business District & 492091.1 & 5458840\\\\\n",
       "\t Theft from Vehicle & 2022 & 4 & 16 &  9 & 58 & 1XX W HASTINGS ST & Central Business District & 492101.0 & 5458837\\\\\n",
       "\t Theft from Vehicle & 2020 & 2 &  8 & 20 &  0 & 1XX W HASTINGS ST & Central Business District & 492103.9 & 5458836\\\\\n",
       "\t Theft from Vehicle & 2022 & 6 & 16 & 13 &  0 & 1XX W HASTINGS ST & Central Business District & 492107.4 & 5458835\\\\\n",
       "\t Theft from Vehicle & 2022 & 4 & 19 & 19 &  0 & 1XX W HASTINGS ST & Central Business District & 492113.5 & 5458843\\\\\n",
       "\\end{tabular}\n"
      ],
      "text/markdown": [
       "\n",
       "A tibble: 6 × 10\n",
       "\n",
       "| TYPE &lt;chr&gt; | YEAR &lt;dbl&gt; | MONTH &lt;dbl&gt; | DAY &lt;dbl&gt; | HOUR &lt;dbl&gt; | MINUTE &lt;dbl&gt; | HUNDRED_BLOCK &lt;chr&gt; | NEIGHBOURHOOD &lt;chr&gt; | X &lt;dbl&gt; | Y &lt;dbl&gt; |\n",
       "|---|---|---|---|---|---|---|---|---|---|\n",
       "| Theft from Vehicle | 2022 | 8 | 14 | 17 |  0 | 1XX W HASTINGS ST | Central Business District | 492029.3 | 5458866 |\n",
       "| Theft from Vehicle | 2020 | 1 | 27 | 17 | 50 | 1XX W HASTINGS ST | Central Business District | 492091.1 | 5458840 |\n",
       "| Theft from Vehicle | 2022 | 4 | 16 |  9 | 58 | 1XX W HASTINGS ST | Central Business District | 492101.0 | 5458837 |\n",
       "| Theft from Vehicle | 2020 | 2 |  8 | 20 |  0 | 1XX W HASTINGS ST | Central Business District | 492103.9 | 5458836 |\n",
       "| Theft from Vehicle | 2022 | 6 | 16 | 13 |  0 | 1XX W HASTINGS ST | Central Business District | 492107.4 | 5458835 |\n",
       "| Theft from Vehicle | 2022 | 4 | 19 | 19 |  0 | 1XX W HASTINGS ST | Central Business District | 492113.5 | 5458843 |\n",
       "\n"
      ],
      "text/plain": [
       "  TYPE               YEAR MONTH DAY HOUR MINUTE HUNDRED_BLOCK    \n",
       "1 Theft from Vehicle 2022 8     14  17    0     1XX W HASTINGS ST\n",
       "2 Theft from Vehicle 2020 1     27  17   50     1XX W HASTINGS ST\n",
       "3 Theft from Vehicle 2022 4     16   9   58     1XX W HASTINGS ST\n",
       "4 Theft from Vehicle 2020 2      8  20    0     1XX W HASTINGS ST\n",
       "5 Theft from Vehicle 2022 6     16  13    0     1XX W HASTINGS ST\n",
       "6 Theft from Vehicle 2022 4     19  19    0     1XX W HASTINGS ST\n",
       "  NEIGHBOURHOOD             X        Y      \n",
       "1 Central Business District 492029.3 5458866\n",
       "2 Central Business District 492091.1 5458840\n",
       "3 Central Business District 492101.0 5458837\n",
       "4 Central Business District 492103.9 5458836\n",
       "5 Central Business District 492107.4 5458835\n",
       "6 Central Business District 492113.5 5458843"
      ]
     },
     "metadata": {},
     "output_type": "display_data"
    }
   ],
   "source": [
    "#Read the raw data from the web using its url filter years from 2020 onwards.\n",
    "url <- \"https://raw.githubusercontent.com/PUSH-YA/stat-201-2022w1-group-38/main/crimedata_csv_AllNeighbourhoods_AllYears.csv\"\n",
    "vancouver_crime_raw_data <- read_csv(url) %>% filter(YEAR %in% c(2020,2021,2022))\n",
    "head(vancouver_crime_raw_data)"
   ]
  },
  {
   "cell_type": "code",
   "execution_count": null,
   "id": "271728d5-92a5-4eca-91a3-716a8b47060d",
   "metadata": {},
   "outputs": [],
   "source": [
    "# Remove all invalid rows at midnight."
   ]
  },
  {
   "cell_type": "markdown",
   "id": "49b039d7-8bba-47d1-859b-3d1e54f2889f",
   "metadata": {},
   "source": [
    "## Discussion"
   ]
  },
  {
   "cell_type": "markdown",
   "id": "bacd765f-d82c-4f3f-94c4-47948a818386",
   "metadata": {},
   "source": [
    "- interpret the results in the above section\n",
    "- discuess whether your results were the same as you expected\n",
    "- discuss future questions /research this study could lead to"
   ]
  },
  {
   "cell_type": "markdown",
   "id": "be8239b9-6dc7-4fe4-bded-33516e570d17",
   "metadata": {},
   "source": [
    "## References"
   ]
  },
  {
   "cell_type": "markdown",
   "id": "8e098e16-d05f-40fb-b5f7-2cf9473bb594",
   "metadata": {},
   "source": [
    "- probably could use the same resources as before"
   ]
  }
 ],
 "metadata": {
  "kernelspec": {
   "display_name": "R",
   "language": "R",
   "name": "ir"
  },
  "language_info": {
   "codemirror_mode": "r",
   "file_extension": ".r",
   "mimetype": "text/x-r-source",
   "name": "R",
   "pygments_lexer": "r",
   "version": "4.1.3"
  }
 },
 "nbformat": 4,
 "nbformat_minor": 5
}
