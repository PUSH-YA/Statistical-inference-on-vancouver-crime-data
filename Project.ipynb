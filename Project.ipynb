{
 "cells": [
  {
   "cell_type": "markdown",
   "id": "fd5d34c2-633c-40e5-8ae7-33bd0433036e",
   "metadata": {},
   "source": [
    "# **<span style=\"color: black;\">STAT 201 Project  - Group 38</span>** \n",
    "##### **-- by Pushya Jain, Jingyuan Liu, Ty Stevenson & Bowen Tian**"
   ]
  },
  {
   "cell_type": "markdown",
   "id": "da53ffa0-fd02-4501-907e-46372a135eb0",
   "metadata": {
    "tags": []
   },
   "source": [
    "## Introduction"
   ]
  },
  {
   "cell_type": "markdown",
   "id": "73d398f9-b736-40ac-b9ff-bd63337d4bb9",
   "metadata": {},
   "source": [
    "- same as project proposal  + feedback on it"
   ]
  },
  {
   "cell_type": "markdown",
   "id": "708d9d91-0f17-45cb-a4d3-b5fc7bcb99ae",
   "metadata": {},
   "source": [
    "## Methods and results"
   ]
  },
  {
   "cell_type": "markdown",
   "id": "af696845-3971-4ee7-94f1-a2455f4cdd89",
   "metadata": {},
   "source": [
    "- preliminary results\n",
    "- describe the code in english and how and why you are doing something\n",
    "- ensure proper titles and everything is numbred properly (units if encessary)\n",
    "- which approach are you using and why (bootstrapping VS theory based) _I think we are using both_"
   ]
  },
  {
   "cell_type": "code",
   "execution_count": null,
   "id": "e6e10b30-5719-4097-ba5c-fbe6aa6cb10c",
   "metadata": {},
   "outputs": [],
   "source": []
  },
  {
   "cell_type": "markdown",
   "id": "49b039d7-8bba-47d1-859b-3d1e54f2889f",
   "metadata": {},
   "source": [
    "## Discussion"
   ]
  },
  {
   "cell_type": "markdown",
   "id": "bacd765f-d82c-4f3f-94c4-47948a818386",
   "metadata": {},
   "source": [
    "- interpret the results in the above section\n",
    "- discuess whether your results were the same as you expected\n",
    "- discuss future questions /research this study could lead to"
   ]
  },
  {
   "cell_type": "markdown",
   "id": "be8239b9-6dc7-4fe4-bded-33516e570d17",
   "metadata": {},
   "source": [
    "## References"
   ]
  },
  {
   "cell_type": "markdown",
   "id": "8e098e16-d05f-40fb-b5f7-2cf9473bb594",
   "metadata": {},
   "source": [
    "- probably could use the same resources as before"
   ]
  }
 ],
 "metadata": {
  "kernelspec": {
   "display_name": "R",
   "language": "R",
   "name": "ir"
  },
  "language_info": {
   "codemirror_mode": "r",
   "file_extension": ".r",
   "mimetype": "text/x-r-source",
   "name": "R",
   "pygments_lexer": "r",
   "version": "4.1.3"
  }
 },
 "nbformat": 4,
 "nbformat_minor": 5
}
