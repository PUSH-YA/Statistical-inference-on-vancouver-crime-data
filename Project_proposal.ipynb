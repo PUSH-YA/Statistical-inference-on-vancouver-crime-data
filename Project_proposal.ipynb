{
 "cells": [
  {
   "cell_type": "markdown",
   "id": "b6e6e731-40a6-4088-a6d5-e5f0e9087fb4",
   "metadata": {},
   "source": [
    "# **<span style=\"color: black;\">STAT 201 Project Proposal - Group 38</span>** \n",
    "##### **-- by Pushya Jain, Jingyuan Liu, Ty Stevenson & Bowen Tian**"
   ]
  },
  {
   "cell_type": "markdown",
   "id": "7811789c-e7e5-4989-b093-ec97e5cba7bd",
   "metadata": {},
   "source": [
    "## **Statistical inference on crime statistics of Vancouver**"
   ]
  },
  {
   "cell_type": "markdown",
   "id": "055ef025-ba49-4ed4-bc7e-84986d4fd310",
   "metadata": {},
   "source": [
    "### **Introduction**"
   ]
  },
  {
   "cell_type": "markdown",
   "id": "05bb581e-c807-40a7-85ee-1dff2f8f6cf2",
   "metadata": {},
   "source": [
    "<span style=\"color: black;\">In our STAT201 group project, we propose the following question of interest: **How does the proportion of violent and non violent crimes vary throughout the day?** With the rise of unprovoked stranger attacks and safety concerns for Vancouverites, we will seek to better understand the relation of criminal activity and time of day. The data is provided by the Vancouver Police Department on the open source “geodash” website. We will be using the data from 2003 to 2022 for all neighborhoods within the Vancouver municipal proper. The goal of this study is to understand if daytime and nighttime hours tend to harbour different types of crimes, which may be useful in further inferences about the motivations behind such crimes (CS Wisdom et H. Torch). These trends can also assist in predicting criminal activity and developing preventive and punitive methods to reduce crime, and understand the underlying social problems conducive to crimes (University of Minnesota).</span>"
   ]
  },
  {
   "cell_type": "code",
   "execution_count": 4,
   "id": "82dfebff-3faa-4192-ad6a-94668d911215",
   "metadata": {},
   "outputs": [
    {
     "ename": "SyntaxError",
     "evalue": "expression cannot contain assignment, perhaps you meant \"==\"? (1502476855.py, line 12)",
     "output_type": "error",
     "traceback": [
      "\u001b[1;36m  Input \u001b[1;32mIn [4]\u001b[1;36m\u001b[0m\n\u001b[1;33m    options(repr.matrix.max.rows = 8)\u001b[0m\n\u001b[1;37m            ^\u001b[0m\n\u001b[1;31mSyntaxError\u001b[0m\u001b[1;31m:\u001b[0m expression cannot contain assignment, perhaps you meant \"==\"?\n"
     ]
    }
   ],
   "source": [
    "### Load all necessary packages into R and set the seed. Run this cell before continuing.\n",
    "library(tidyverse)\n",
    "library(tidymodels)\n",
    "library(gridExtra)\n",
    "library(repr)\n",
    "library(cowplot)\n",
    "library(broom)\n",
    "library(digest)\n",
    "library(infer)\n",
    "library(gridExtra)\n",
    "set.seed(38)\n",
    "options(repr.matrix.max.rows = 8)"
   ]
  },
  {
   "cell_type": "markdown",
   "id": "ab7cc203-7112-44cc-bd0c-b681af473ef7",
   "metadata": {},
   "source": [
    "### **Preliminary results**"
   ]
  },
  {
   "cell_type": "markdown",
   "id": "f16cf2f3-e6d5-4021-8dde-d6e7810c2fae",
   "metadata": {},
   "source": [
    "<span style=\"color: black;\">In our preliminary and exploratory analysis, we downloaded the dataset as csv and imported it into R. We immediately noticed that there are spikes in the distribution around midnight, noon, and to a lesser extent at regular intervals (hourly, 30-minutes, 15-minutes, etc.). We assumed this to be an artifact of estimating crime time in instances where the precise time is unknown. To counteract this problem, we used a histogram to bin the dataset by the hour and removed values at midnight and noon. This may cause the unintended effect of removing useful data. However, as we are comparing the two groups by daytime and nighttime, it should have little effect on the proportions calculated. The histograms in question are shown below:</span>"
   ]
  },
  {
   "cell_type": "code",
   "execution_count": 3,
   "id": "0e49d2df-6dd1-42a9-9506-9b4668b28acc",
   "metadata": {},
   "outputs": [
    {
     "ename": "SyntaxError",
     "evalue": "invalid syntax (1068983756.py, line 7)",
     "output_type": "error",
     "traceback": [
      "\u001b[1;36m  Input \u001b[1;32mIn [3]\u001b[1;36m\u001b[0m\n\u001b[1;33m    pop_plot <- vancouver_crime_raw_data %>%\u001b[0m\n\u001b[1;37m                                          ^\u001b[0m\n\u001b[1;31mSyntaxError\u001b[0m\u001b[1;31m:\u001b[0m invalid syntax\n"
     ]
    }
   ],
   "source": [
    "#Read the raw data from the web using its url.\n",
    "url <- \"https://raw.githubusercontent.com/PUSH-YA/stat-201-2022w1-group-38/main/crimedata_csv_AllNeighbourhoods_AllYears.csv\"\n",
    "vancouver_crime_raw_data <- read_csv(url)\n",
    "head(vancouver_crime_raw_data)\n",
    "\n",
    "#Initial population distribution\n",
    "pop_plot <- vancouver_crime_raw_data %>% \n",
    "            ggplot() +\n",
    "            geom_histogram(aes(x = HOUR), bins = 24) +\n",
    "            labs(x = \"time of the day (hour)\", \n",
    "                title = \"Distribution of # of crimes and their times\",\n",
    "                y = \"count\")\n",
    "\n",
    "#Cleaning the data\n",
    "vancouver_clean_data <- vancouver_crime_raw_data %>%\n",
    "                            filter(!(HOUR == 0 & MINUTE == 0)) %>%\n",
    "                            select(TYPE, HOUR, MINUTE)\n",
    "\n",
    "pop_plot_clean <- vancouver_clean_data %>% \n",
    "            ggplot() +\n",
    "            geom_histogram(aes(x = HOUR), bins =24) +\n",
    "            labs(x = \"time of the day (hour)\", \n",
    "                title = \"Cleaned distribution of # of crimes and their times\",\n",
    "                y = \"count\")\n",
    "\n",
    "options(repr.plot.width=12, repr.plot.height=4)\n",
    "grid.arrange(pop_plot, pop_plot_clean, ncol =2)"
   ]
  },
  {
   "cell_type": "markdown",
   "id": "d128da02-c6e5-400b-a6dd-eedffd47cea5",
   "metadata": {
    "tags": []
   },
   "source": [
    "Checking the types of the crime in the data set"
   ]
  },
  {
   "cell_type": "code",
   "execution_count": null,
   "id": "3ca5add2-8fb3-4b66-9077-958bb7b7b090",
   "metadata": {},
   "outputs": [
    {
     "data": {
      "text/html": [
       "<table class=\"dataframe\">\n",
       "<caption>A tibble: 1 × 11</caption>\n",
       "<thead>\n",
       "\t<tr><th scope=col>Break and Enter Commercial</th><th scope=col>Break and Enter Residential/Other</th><th scope=col>Homicide</th><th scope=col>Mischief</th><th scope=col>Offence Against a Person</th><th scope=col>Other Theft</th><th scope=col>Theft from Vehicle</th><th scope=col>Theft of Bicycle</th><th scope=col>Theft of Vehicle</th><th scope=col>Vehicle Collision or Pedestrian Struck (with Fatality)</th><th scope=col>Vehicle Collision or Pedestrian Struck (with Injury)</th></tr>\n",
       "\t<tr><th scope=col>&lt;int&gt;</th><th scope=col>&lt;int&gt;</th><th scope=col>&lt;int&gt;</th><th scope=col>&lt;int&gt;</th><th scope=col>&lt;int&gt;</th><th scope=col>&lt;int&gt;</th><th scope=col>&lt;int&gt;</th><th scope=col>&lt;int&gt;</th><th scope=col>&lt;int&gt;</th><th scope=col>&lt;int&gt;</th><th scope=col>&lt;int&gt;</th></tr>\n",
       "</thead>\n",
       "<tbody>\n",
       "\t<tr><td>45904</td><td>71244</td><td>301</td><td>100901</td><td>72890</td><td>206918</td><td>235580</td><td>36090</td><td>44151</td><td>337</td><td>28176</td></tr>\n",
       "</tbody>\n",
       "</table>\n"
      ],
      "text/latex": [
       "A tibble: 1 × 11\n",
       "\\begin{tabular}{lllllllllll}\n",
       " Break and Enter Commercial & Break and Enter Residential/Other & Homicide & Mischief & Offence Against a Person & Other Theft & Theft from Vehicle & Theft of Bicycle & Theft of Vehicle & Vehicle Collision or Pedestrian Struck (with Fatality) & Vehicle Collision or Pedestrian Struck (with Injury)\\\\\n",
       " <int> & <int> & <int> & <int> & <int> & <int> & <int> & <int> & <int> & <int> & <int>\\\\\n",
       "\\hline\n",
       "\t 45904 & 71244 & 301 & 100901 & 72890 & 206918 & 235580 & 36090 & 44151 & 337 & 28176\\\\\n",
       "\\end{tabular}\n"
      ],
      "text/markdown": [
       "\n",
       "A tibble: 1 × 11\n",
       "\n",
       "| Break and Enter Commercial &lt;int&gt; | Break and Enter Residential/Other &lt;int&gt; | Homicide &lt;int&gt; | Mischief &lt;int&gt; | Offence Against a Person &lt;int&gt; | Other Theft &lt;int&gt; | Theft from Vehicle &lt;int&gt; | Theft of Bicycle &lt;int&gt; | Theft of Vehicle &lt;int&gt; | Vehicle Collision or Pedestrian Struck (with Fatality) &lt;int&gt; | Vehicle Collision or Pedestrian Struck (with Injury) &lt;int&gt; |\n",
       "|---|---|---|---|---|---|---|---|---|---|---|\n",
       "| 45904 | 71244 | 301 | 100901 | 72890 | 206918 | 235580 | 36090 | 44151 | 337 | 28176 |\n",
       "\n"
      ],
      "text/plain": [
       "  Break and Enter Commercial Break and Enter Residential/Other Homicide\n",
       "1 45904                      71244                             301     \n",
       "  Mischief Offence Against a Person Other Theft Theft from Vehicle\n",
       "1 100901   72890                    206918      235580            \n",
       "  Theft of Bicycle Theft of Vehicle\n",
       "1 36090            44151           \n",
       "  Vehicle Collision or Pedestrian Struck (with Fatality)\n",
       "1 337                                                   \n",
       "  Vehicle Collision or Pedestrian Struck (with Injury)\n",
       "1 28176                                               "
      ]
     },
     "metadata": {},
     "output_type": "display_data"
    }
   ],
   "source": [
    "#Checking the types of crims\n",
    "crime_types <- vancouver_crime_raw_data %>%\n",
    "                group_by(TYPE) %>%\n",
    "                summarise(count = n()) %>%\n",
    "                pivot_wider(\n",
    "                    names_from = TYPE,\n",
    "                    values_from = count\n",
    "                )\n",
    "\n",
    "crime_types"
   ]
  },
  {
   "cell_type": "markdown",
   "id": "62e33f54-1621-4377-82c2-c89ff08f89e5",
   "metadata": {},
   "source": [
    "Dividing theft and michief as non-violent crimes and rest as violent crimes.\n",
    "\n",
    "Then divide the data (daytime and nighttime) and then create boxplots of the corresponding data which will be used to make a summarised table."
   ]
  },
  {
   "cell_type": "code",
   "execution_count": 1,
   "id": "c48efeaa-34ab-4a74-8266-51b7cd5678a8",
   "metadata": {},
   "outputs": [
    {
     "ename": "SyntaxError",
     "evalue": "invalid syntax (1855282969.py, line 2)",
     "output_type": "error",
     "traceback": [
      "\u001b[1;36m  Input \u001b[1;32mIn [1]\u001b[1;36m\u001b[0m\n\u001b[1;33m    vancouver_clean_data <- vancouver_clean_data %>% mutate(VIOLENT = TYPE %in% c(\"Break and Enter Commercial\", \"Break and Enter Residential/Other\", \"Homicide\",\u001b[0m\n\u001b[1;37m                                                  ^\u001b[0m\n\u001b[1;31mSyntaxError\u001b[0m\u001b[1;31m:\u001b[0m invalid syntax\n"
     ]
    }
   ],
   "source": [
    "#dividing the types of crime data\n",
    "vancouver_clean_data <- vancouver_clean_data %>% mutate(VIOLENT = TYPE %in% c(\"Break and Enter Commercial\", \"Break and Enter Residential/Other\", \"Homicide\", \n",
    "                                                                           \"Offence Against a Person\", \"Vehicle Collision or Pedestrian Struck (with Fatality)\",\n",
    "                                                                           \"Vehicle Collision or Pedestrian Struck (with Injury)\"))\n",
    "\n",
    "\n",
    "#dividing it into daytime and nighttime data\n",
    "daytime_data <- vancouver_clean_data %>% filter(HOUR >= 6 & HOUR < 18)\n",
    "nighttime_data <- vancouver_clean_data %>% filter(HOUR < 6 | HOUR >= 18)\n",
    "\n",
    "\n",
    "#the histogram distribution\n",
    "daytime_plot\n",
    "nighttime_\n"
   ]
  },
  {
   "cell_type": "markdown",
   "id": "5c1656dd-08c6-495f-a0f3-4bb2d91f16c1",
   "metadata": {},
   "source": [
    "### **Methods: plan**"
   ]
  },
  {
   "cell_type": "markdown",
   "id": "71460d1b-704b-4243-81d2-138b72f670e3",
   "metadata": {},
   "source": [
    " \n",
    "The plots above are still not enough to reject null hypothesis as there are sampling and statistical errors that need to be addressed. We are going to use theory based approaches to find a confidence interval for the difference and for our hypothesis testing and compare it against the bootstrapping approach to answer our question. These methods should account for both types of error and  the bootstrapping comparison will account for the assumptions in the first approach.  We expect to find differences between rates of crime severity, based on the time, normalized. \n",
    "\n",
    "$H_0: \\mu_0 - \\mu_1 = 0$\n",
    "\n",
    "$H_A: \\mu_0 - \\mu_1 \\neq 0$\n",
    "\n",
    "We suspect violent crimes occur disproportionately during nighttime, especially types such as vehicular fatality under alcohol influence. If our hypothesis is confirmed, it can be extremely useful for public safety, and help law enforcement agencies distribute resources adequately and perform more efficiently.\n",
    "    \n",
    "    \n",
    "Additional inquiry could be relevant to address police presence on the frequency of crime, in deterring more violent varieties that occur during the night, as well as performing a more thorough analysis on crimes such as burglary.\n",
    "\n"
   ]
  },
  {
   "cell_type": "markdown",
   "id": "1747802f-9a37-4a6e-be12-745bf6d9475b",
   "metadata": {},
   "source": [
    "### **References**"
   ]
  },
  {
   "cell_type": "markdown",
   "id": "87477d60-b2c5-456d-92c4-50262ceaab7d",
   "metadata": {},
   "source": [
    "References on:\n",
    "- VPD OPEN DATA. (n.d.). “Vancouver Police Department Crime Data.”, Retrieved from https://geodash.vpd.ca/opendata/ and https://opendata.vancouver.ca/pages/home/\n",
    "-  Chester Ismay and Albert Y. Kim (2022e, October 28). Statistical Inference via Data Science. https://moderndive.com/\n",
    "- CS Widom; H Toch. “Contribution of Psychology to Criminal Justice Education.” CONTRIBUTION OF PSYCHOLOGY TO CRIMINAL JUSTICE EDUCATION | Office of Justice Programs, Retrieved from https://www.ojp.gov/ncjrs/virtual-library/abstracts/contribution-psychology-criminal-justice-education\n",
    "- University of Minnesota. “8.2 Types of Crime.” Social Problems, University of Minnesota Libraries Publishing Edition, 2015. This Edition Adapted from a Work Originally Produced in 2010 by a Publisher Who Has Requested That It Not Receive Attribution., 25 Mar. 2016, Retrieved from https://open.lib.umn.edu/socialproblems/chapter/8-2-types-of-crime/ "
   ]
  },
  {
   "cell_type": "code",
   "execution_count": null,
   "id": "64425824-1079-433a-bb7e-f2bc29514998",
   "metadata": {},
   "outputs": [],
   "source": [
    "vancouver_clean_data"
   ]
  }
 ],
 "metadata": {
  "kernelspec": {
   "display_name": "Python 3 (ipykernel)",
   "language": "python",
   "name": "python3"
  },
  "language_info": {
   "codemirror_mode": {
    "name": "ipython",
    "version": 3
   },
   "file_extension": ".py",
   "mimetype": "text/x-python",
   "name": "python",
   "nbconvert_exporter": "python",
   "pygments_lexer": "ipython3",
   "version": "3.10.4"
  }
 },
 "nbformat": 4,
 "nbformat_minor": 5
}
