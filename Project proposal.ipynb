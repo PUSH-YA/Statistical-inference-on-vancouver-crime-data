{
 "cells": [
  {
   "cell_type": "markdown",
   "id": "7811789c-e7e5-4989-b093-ec97e5cba7bd",
   "metadata": {},
   "source": [
    "## **Statistical inference on crime statistics of Vancouver**"
   ]
  },
  {
   "cell_type": "markdown",
   "id": "055ef025-ba49-4ed4-bc7e-84986d4fd310",
   "metadata": {},
   "source": [
    "### **Introduction**"
   ]
  },
  {
   "cell_type": "markdown",
   "id": "05bb581e-c807-40a7-85ee-1dff2f8f6cf2",
   "metadata": {},
   "source": [
    "- Main Question *What are random variables of interest, spread across two or more categories that are interesting to compare*\n",
    "- Why is this question important\n",
    "- atleast 2 scientific publications acknowledging this\n",
    "- Which data set will be used to answer the question"
   ]
  },
  {
   "cell_type": "markdown",
   "id": "ab7cc203-7112-44cc-bd0c-b681af473ef7",
   "metadata": {},
   "source": [
    "### **Preliminary results**"
   ]
  },
  {
   "cell_type": "markdown",
   "id": "62e33f54-1621-4377-82c2-c89ff08f89e5",
   "metadata": {},
   "source": [
    "- Read the data set from the web \n",
    "- clean the data\n",
    "- Plot some graphs answering some things about the question\n",
    "- Compute estimates of the parameter you identified across your groups. Present this in a table. If relevant, include these estimates in your plot."
   ]
  },
  {
   "cell_type": "code",
   "execution_count": null,
   "id": "82dfebff-3faa-4192-ad6a-94668d911215",
   "metadata": {},
   "outputs": [],
   "source": []
  },
  {
   "cell_type": "markdown",
   "id": "5c1656dd-08c6-495f-a0f3-4bb2d91f16c1",
   "metadata": {},
   "source": [
    "### **Methods: plan**"
   ]
  },
  {
   "cell_type": "markdown",
   "id": "40f75e5b-3b6c-4845-aa70-247cff2376e1",
   "metadata": {},
   "source": [
    "- In what ways is this report trustworthy\n",
    "- Analyse the plot and explain what it means\n",
    "- Explain why just plots are not enough to give a *stakeholder* [not sure what it means]\n",
    "- What should you provide to address the gap\n",
    "- What should you expect your results to be\n",
    "- State the ***null hypothesis*** and the ***alternative hypothesis***\n",
    "- What impact could such findings have?\n",
    "- What future questions could this lead to?"
   ]
  },
  {
   "cell_type": "markdown",
   "id": "1747802f-9a37-4a6e-be12-745bf6d9475b",
   "metadata": {},
   "source": [
    "### **References**"
   ]
  },
  {
   "cell_type": "markdown",
   "id": "87477d60-b2c5-456d-92c4-50262ceaab7d",
   "metadata": {},
   "source": [
    "References on:\n",
    "- Data base\n",
    "- information about crime in vancouver\n",
    "- what crime statistics are valuable"
   ]
  }
 ],
 "metadata": {
  "kernelspec": {
   "display_name": "R",
   "language": "R",
   "name": "ir"
  },
  "language_info": {
   "codemirror_mode": "r",
   "file_extension": ".r",
   "mimetype": "text/x-r-source",
   "name": "R",
   "pygments_lexer": "r",
   "version": "4.1.3"
  }
 },
 "nbformat": 4,
 "nbformat_minor": 5
}
