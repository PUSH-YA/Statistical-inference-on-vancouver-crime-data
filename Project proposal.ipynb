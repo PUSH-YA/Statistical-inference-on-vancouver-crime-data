{
 "cells": [
  {
   "cell_type": "markdown",
   "id": "b6e6e731-40a6-4088-a6d5-e5f0e9087fb4",
   "metadata": {},
   "source": [
    "# **<span style=\"color: black;\">STAT 201 Project Proposal - Group 38</span>** \n",
    "##### **-- by Pushya Jain, Jingyuan Liu, Ty Stevenson & Bowen Tian**"
   ]
  },
  {
   "cell_type": "markdown",
   "id": "7811789c-e7e5-4989-b093-ec97e5cba7bd",
   "metadata": {},
   "source": [
    "## **Statistical inference on crime statistics of Vancouver**"
   ]
  },
  {
   "cell_type": "markdown",
   "id": "055ef025-ba49-4ed4-bc7e-84986d4fd310",
   "metadata": {},
   "source": [
    "### **Introduction**"
   ]
  },
  {
   "cell_type": "markdown",
   "id": "05bb581e-c807-40a7-85ee-1dff2f8f6cf2",
   "metadata": {},
   "source": [
    "<span style=\"color: blue;\">In our STAT201 group project, we propose the following question of interest: How does the mean number of crimes per hour vary between violent and non-violent crimes throughout the day? With the rise of unprovoked stranger attacks and safety concerns for Vancouverites, we will seek to better understand the relation of criminal activity and time of day. The data is provided by the Vancouver Police Department on the open source “geodash” website. We will be using the data from 2003 to 2022 for all neighborhoods within the Vancouver municipal proper. The goal of this study is to understand if daytime and nighttime hours tend to harbour different types of crimes, which may be useful in further inferences about the motivations behind such crimes (CS Wisdom et H. Torch). These trends can also assist in predicting criminal activity and developing preventive and punitive methods to reduce crime, and understand the underlying social problems conducive to crimes (University of Minnesota).</span>"
   ]
  },
  {
   "cell_type": "markdown",
   "id": "ab7cc203-7112-44cc-bd0c-b681af473ef7",
   "metadata": {},
   "source": [
    "### **Preliminary results**"
   ]
  },
  {
   "cell_type": "code",
   "execution_count": 1,
   "id": "82dfebff-3faa-4192-ad6a-94668d911215",
   "metadata": {},
   "outputs": [
    {
     "name": "stderr",
     "output_type": "stream",
     "text": [
      "── \u001b[1mAttaching packages\u001b[22m ─────────────────────────────────────── tidyverse 1.3.2 ──\n",
      "\u001b[32m✔\u001b[39m \u001b[34mggplot2\u001b[39m 3.3.6      \u001b[32m✔\u001b[39m \u001b[34mpurrr  \u001b[39m 0.3.4 \n",
      "\u001b[32m✔\u001b[39m \u001b[34mtibble \u001b[39m 3.1.8      \u001b[32m✔\u001b[39m \u001b[34mdplyr  \u001b[39m 1.0.10\n",
      "\u001b[32m✔\u001b[39m \u001b[34mtidyr  \u001b[39m 1.2.1      \u001b[32m✔\u001b[39m \u001b[34mstringr\u001b[39m 1.4.1 \n",
      "\u001b[32m✔\u001b[39m \u001b[34mreadr  \u001b[39m 2.1.2      \u001b[32m✔\u001b[39m \u001b[34mforcats\u001b[39m 0.5.2 \n",
      "── \u001b[1mConflicts\u001b[22m ────────────────────────────────────────── tidyverse_conflicts() ──\n",
      "\u001b[31m✖\u001b[39m \u001b[34mdplyr\u001b[39m::\u001b[32mfilter()\u001b[39m masks \u001b[34mstats\u001b[39m::filter()\n",
      "\u001b[31m✖\u001b[39m \u001b[34mdplyr\u001b[39m::\u001b[32mlag()\u001b[39m    masks \u001b[34mstats\u001b[39m::lag()\n",
      "── \u001b[1mAttaching packages\u001b[22m ────────────────────────────────────── tidymodels 1.0.0 ──\n",
      "\n",
      "\u001b[32m✔\u001b[39m \u001b[34mbroom       \u001b[39m 1.0.1     \u001b[32m✔\u001b[39m \u001b[34mrsample     \u001b[39m 1.1.0\n",
      "\u001b[32m✔\u001b[39m \u001b[34mdials       \u001b[39m 1.0.0     \u001b[32m✔\u001b[39m \u001b[34mtune        \u001b[39m 1.0.0\n",
      "\u001b[32m✔\u001b[39m \u001b[34minfer       \u001b[39m 1.0.3     \u001b[32m✔\u001b[39m \u001b[34mworkflows   \u001b[39m 1.0.0\n",
      "\u001b[32m✔\u001b[39m \u001b[34mmodeldata   \u001b[39m 1.0.1     \u001b[32m✔\u001b[39m \u001b[34mworkflowsets\u001b[39m 1.0.0\n",
      "\u001b[32m✔\u001b[39m \u001b[34mparsnip     \u001b[39m 1.0.1     \u001b[32m✔\u001b[39m \u001b[34myardstick   \u001b[39m 1.1.0\n",
      "\u001b[32m✔\u001b[39m \u001b[34mrecipes     \u001b[39m 1.0.1     \n",
      "\n",
      "── \u001b[1mConflicts\u001b[22m ───────────────────────────────────────── tidymodels_conflicts() ──\n",
      "\u001b[31m✖\u001b[39m \u001b[34mscales\u001b[39m::\u001b[32mdiscard()\u001b[39m masks \u001b[34mpurrr\u001b[39m::discard()\n",
      "\u001b[31m✖\u001b[39m \u001b[34mdplyr\u001b[39m::\u001b[32mfilter()\u001b[39m   masks \u001b[34mstats\u001b[39m::filter()\n",
      "\u001b[31m✖\u001b[39m \u001b[34mrecipes\u001b[39m::\u001b[32mfixed()\u001b[39m  masks \u001b[34mstringr\u001b[39m::fixed()\n",
      "\u001b[31m✖\u001b[39m \u001b[34mdplyr\u001b[39m::\u001b[32mlag()\u001b[39m      masks \u001b[34mstats\u001b[39m::lag()\n",
      "\u001b[31m✖\u001b[39m \u001b[34myardstick\u001b[39m::\u001b[32mspec()\u001b[39m masks \u001b[34mreadr\u001b[39m::spec()\n",
      "\u001b[31m✖\u001b[39m \u001b[34mrecipes\u001b[39m::\u001b[32mstep()\u001b[39m   masks \u001b[34mstats\u001b[39m::step()\n",
      "\u001b[34m•\u001b[39m Learn how to get started at \u001b[32mhttps://www.tidymodels.org/start/\u001b[39m\n",
      "\n",
      "\n",
      "Attaching package: ‘gridExtra’\n",
      "\n",
      "\n",
      "The following object is masked from ‘package:dplyr’:\n",
      "\n",
      "    combine\n",
      "\n",
      "\n"
     ]
    }
   ],
   "source": [
    "### Load all necessary packages into R and set the seed. Run this cell before continuing.\n",
    "library(tidyverse)\n",
    "library(tidymodels)\n",
    "library(gridExtra)\n",
    "library(repr)\n",
    "library(cowplot)\n",
    "library(broom)\n",
    "library(digest)\n",
    "library(infer)\n",
    "library(gridExtra)\n",
    "set.seed(38)\n",
    "options(repr.matrix.max.rows = 8)"
   ]
  },
  {
   "cell_type": "code",
   "execution_count": 2,
   "id": "0e49d2df-6dd1-42a9-9506-9b4668b28acc",
   "metadata": {},
   "outputs": [
    {
     "name": "stderr",
     "output_type": "stream",
     "text": [
      "\u001b[1mRows: \u001b[22m\u001b[34m842492\u001b[39m \u001b[1mColumns: \u001b[22m\u001b[34m10\u001b[39m\n",
      "\u001b[36m──\u001b[39m \u001b[1mColumn specification\u001b[22m \u001b[36m────────────────────────────────────────────────────────\u001b[39m\n",
      "\u001b[1mDelimiter:\u001b[22m \",\"\n",
      "\u001b[31mchr\u001b[39m (3): TYPE, HUNDRED_BLOCK, NEIGHBOURHOOD\n",
      "\u001b[32mdbl\u001b[39m (7): YEAR, MONTH, DAY, HOUR, MINUTE, X, Y\n",
      "\n",
      "\u001b[36mℹ\u001b[39m Use `spec()` to retrieve the full column specification for this data.\n",
      "\u001b[36mℹ\u001b[39m Specify the column types or set `show_col_types = FALSE` to quiet this message.\n"
     ]
    },
    {
     "data": {
      "text/html": [
       "<table class=\"dataframe\">\n",
       "<caption>A tibble: 6 × 10</caption>\n",
       "<thead>\n",
       "\t<tr><th scope=col>TYPE</th><th scope=col>YEAR</th><th scope=col>MONTH</th><th scope=col>DAY</th><th scope=col>HOUR</th><th scope=col>MINUTE</th><th scope=col>HUNDRED_BLOCK</th><th scope=col>NEIGHBOURHOOD</th><th scope=col>X</th><th scope=col>Y</th></tr>\n",
       "\t<tr><th scope=col>&lt;chr&gt;</th><th scope=col>&lt;dbl&gt;</th><th scope=col>&lt;dbl&gt;</th><th scope=col>&lt;dbl&gt;</th><th scope=col>&lt;dbl&gt;</th><th scope=col>&lt;dbl&gt;</th><th scope=col>&lt;chr&gt;</th><th scope=col>&lt;chr&gt;</th><th scope=col>&lt;dbl&gt;</th><th scope=col>&lt;dbl&gt;</th></tr>\n",
       "</thead>\n",
       "<tbody>\n",
       "\t<tr><td>Theft from Vehicle</td><td>2017</td><td>2</td><td>21</td><td>22</td><td> 0</td><td>1XX W GEORGIA ST</td><td>Central Business District</td><td>491892.3</td><td>5458408</td></tr>\n",
       "\t<tr><td>Theft from Vehicle</td><td>2017</td><td>3</td><td> 8</td><td>12</td><td>45</td><td>1XX W GEORGIA ST</td><td>Central Business District</td><td>491892.3</td><td>5458408</td></tr>\n",
       "\t<tr><td>Theft from Vehicle</td><td>2017</td><td>3</td><td>14</td><td>20</td><td> 0</td><td>1XX W GEORGIA ST</td><td>Central Business District</td><td>491892.3</td><td>5458408</td></tr>\n",
       "\t<tr><td>Theft from Vehicle</td><td>2017</td><td>5</td><td> 8</td><td> 9</td><td>47</td><td>1XX W GEORGIA ST</td><td>Central Business District</td><td>491892.3</td><td>5458408</td></tr>\n",
       "\t<tr><td>Theft from Vehicle</td><td>2017</td><td>5</td><td>17</td><td>13</td><td>18</td><td>1XX W GEORGIA ST</td><td>Central Business District</td><td>491892.3</td><td>5458408</td></tr>\n",
       "\t<tr><td>Theft from Vehicle</td><td>2017</td><td>6</td><td>16</td><td>17</td><td>30</td><td>1XX W GEORGIA ST</td><td>Central Business District</td><td>491892.3</td><td>5458408</td></tr>\n",
       "</tbody>\n",
       "</table>\n"
      ],
      "text/latex": [
       "A tibble: 6 × 10\n",
       "\\begin{tabular}{llllllllll}\n",
       " TYPE & YEAR & MONTH & DAY & HOUR & MINUTE & HUNDRED\\_BLOCK & NEIGHBOURHOOD & X & Y\\\\\n",
       " <chr> & <dbl> & <dbl> & <dbl> & <dbl> & <dbl> & <chr> & <chr> & <dbl> & <dbl>\\\\\n",
       "\\hline\n",
       "\t Theft from Vehicle & 2017 & 2 & 21 & 22 &  0 & 1XX W GEORGIA ST & Central Business District & 491892.3 & 5458408\\\\\n",
       "\t Theft from Vehicle & 2017 & 3 &  8 & 12 & 45 & 1XX W GEORGIA ST & Central Business District & 491892.3 & 5458408\\\\\n",
       "\t Theft from Vehicle & 2017 & 3 & 14 & 20 &  0 & 1XX W GEORGIA ST & Central Business District & 491892.3 & 5458408\\\\\n",
       "\t Theft from Vehicle & 2017 & 5 &  8 &  9 & 47 & 1XX W GEORGIA ST & Central Business District & 491892.3 & 5458408\\\\\n",
       "\t Theft from Vehicle & 2017 & 5 & 17 & 13 & 18 & 1XX W GEORGIA ST & Central Business District & 491892.3 & 5458408\\\\\n",
       "\t Theft from Vehicle & 2017 & 6 & 16 & 17 & 30 & 1XX W GEORGIA ST & Central Business District & 491892.3 & 5458408\\\\\n",
       "\\end{tabular}\n"
      ],
      "text/markdown": [
       "\n",
       "A tibble: 6 × 10\n",
       "\n",
       "| TYPE &lt;chr&gt; | YEAR &lt;dbl&gt; | MONTH &lt;dbl&gt; | DAY &lt;dbl&gt; | HOUR &lt;dbl&gt; | MINUTE &lt;dbl&gt; | HUNDRED_BLOCK &lt;chr&gt; | NEIGHBOURHOOD &lt;chr&gt; | X &lt;dbl&gt; | Y &lt;dbl&gt; |\n",
       "|---|---|---|---|---|---|---|---|---|---|\n",
       "| Theft from Vehicle | 2017 | 2 | 21 | 22 |  0 | 1XX W GEORGIA ST | Central Business District | 491892.3 | 5458408 |\n",
       "| Theft from Vehicle | 2017 | 3 |  8 | 12 | 45 | 1XX W GEORGIA ST | Central Business District | 491892.3 | 5458408 |\n",
       "| Theft from Vehicle | 2017 | 3 | 14 | 20 |  0 | 1XX W GEORGIA ST | Central Business District | 491892.3 | 5458408 |\n",
       "| Theft from Vehicle | 2017 | 5 |  8 |  9 | 47 | 1XX W GEORGIA ST | Central Business District | 491892.3 | 5458408 |\n",
       "| Theft from Vehicle | 2017 | 5 | 17 | 13 | 18 | 1XX W GEORGIA ST | Central Business District | 491892.3 | 5458408 |\n",
       "| Theft from Vehicle | 2017 | 6 | 16 | 17 | 30 | 1XX W GEORGIA ST | Central Business District | 491892.3 | 5458408 |\n",
       "\n"
      ],
      "text/plain": [
       "  TYPE               YEAR MONTH DAY HOUR MINUTE HUNDRED_BLOCK   \n",
       "1 Theft from Vehicle 2017 2     21  22    0     1XX W GEORGIA ST\n",
       "2 Theft from Vehicle 2017 3      8  12   45     1XX W GEORGIA ST\n",
       "3 Theft from Vehicle 2017 3     14  20    0     1XX W GEORGIA ST\n",
       "4 Theft from Vehicle 2017 5      8   9   47     1XX W GEORGIA ST\n",
       "5 Theft from Vehicle 2017 5     17  13   18     1XX W GEORGIA ST\n",
       "6 Theft from Vehicle 2017 6     16  17   30     1XX W GEORGIA ST\n",
       "  NEIGHBOURHOOD             X        Y      \n",
       "1 Central Business District 491892.3 5458408\n",
       "2 Central Business District 491892.3 5458408\n",
       "3 Central Business District 491892.3 5458408\n",
       "4 Central Business District 491892.3 5458408\n",
       "5 Central Business District 491892.3 5458408\n",
       "6 Central Business District 491892.3 5458408"
      ]
     },
     "metadata": {},
     "output_type": "display_data"
    }
   ],
   "source": [
    "#Read the raw data from the web using its url.\n",
    "url <- \"https://raw.githubusercontent.com/PUSH-YA/stat-201-2022w1-group-38/main/crimedata_csv_AllNeighbourhoods_AllYears.csv\"\n",
    "vancouver_crime_raw_data <- read_csv(url)\n",
    "head(vancouver_crime_raw_data)"
   ]
  },
  {
   "cell_type": "markdown",
   "id": "62e33f54-1621-4377-82c2-c89ff08f89e5",
   "metadata": {},
   "source": [
    "- Read the data set from the web \n",
    "- clean the data\n",
    "- Plot some graphs answering some things about the question\n",
    "- Compute estimates of the parameter you identified across your groups. Present this in a table. If relevant, include these estimates in your plot."
   ]
  },
  {
   "cell_type": "markdown",
   "id": "5c1656dd-08c6-495f-a0f3-4bb2d91f16c1",
   "metadata": {},
   "source": [
    "### **Methods: plan**"
   ]
  },
  {
   "cell_type": "markdown",
   "id": "40f75e5b-3b6c-4845-aa70-247cff2376e1",
   "metadata": {},
   "source": [
    "- In what ways is this report trustworthy\n",
    "- Analyse the plot and explain what it means\n",
    "- Explain why just plots are not enough to give a *stakeholder* [not sure what it means]\n",
    "- What should you provide to address the gap\n",
    "- What should you expect your results to be\n",
    "- State the ***null hypothesis*** and the ***alternative hypothesis***\n",
    "- What impact could such findings have?\n",
    "- What future questions could this lead to?"
   ]
  },
  {
   "cell_type": "markdown",
   "id": "1747802f-9a37-4a6e-be12-745bf6d9475b",
   "metadata": {},
   "source": [
    "### **References**"
   ]
  },
  {
   "cell_type": "markdown",
   "id": "87477d60-b2c5-456d-92c4-50262ceaab7d",
   "metadata": {},
   "source": [
    "References on:\n",
    "- VPD OPEN DATA. (n.d.). Retrieved from https://geodash.vpd.ca/opendata/\n",
    "-  Chester Ismay and Albert Y. Kim (2022e, October 28). Statistical Inference via Data Science. https://moderndive.com/\n",
    "- information about crime in vancouver\n",
    "- what crime statistics are valuable"
   ]
  },
  {
   "cell_type": "code",
   "execution_count": null,
   "id": "64425824-1079-433a-bb7e-f2bc29514998",
   "metadata": {},
   "outputs": [],
   "source": []
  }
 ],
 "metadata": {
  "kernelspec": {
   "display_name": "R",
   "language": "R",
   "name": "ir"
  },
  "language_info": {
   "codemirror_mode": "r",
   "file_extension": ".r",
   "mimetype": "text/x-r-source",
   "name": "R",
   "pygments_lexer": "r",
   "version": "4.1.3"
  }
 },
 "nbformat": 4,
 "nbformat_minor": 5
}
